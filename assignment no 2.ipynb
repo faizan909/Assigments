{
 "cells": [
  {
   "cell_type": "code",
   "execution_count": 2,
   "metadata": {},
   "outputs": [
    {
     "name": "stdout",
     "output_type": "stream",
     "text": [
      "the length of list 6\n"
     ]
    }
   ],
   "source": [
    "n= len([1,3,4,5,6,6]);\n",
    "print(\"the length of list\", n)"
   ]
  },
  {
   "cell_type": "code",
   "execution_count": 9,
   "metadata": {},
   "outputs": [
    {
     "name": "stdout",
     "output_type": "stream",
     "text": [
      "Enter a number199\n",
      "odd no\n"
     ]
    }
   ],
   "source": [
    "a=int(input(\"Enter a number\"));\n",
    "if (a%2 == 0) :\n",
    " print(\"even no\");\n",
    "else:\n",
    "  print(\"odd no\")"
   ]
  },
  {
   "cell_type": "code",
   "execution_count": 16,
   "metadata": {},
   "outputs": [
    {
     "name": "stdout",
     "output_type": "stream",
     "text": [
      "The sum of all list number 32\n",
      "The sum of all list number 7\n"
     ]
    }
   ],
   "source": [
    "a=[2,3,4,4,4,5,3,7]\n",
    "print(\"The sum of all list number\" , sum(a))\n"
   ]
  },
  {
   "cell_type": "code",
   "execution_count": 17,
   "metadata": {},
   "outputs": [
    {
     "name": "stdout",
     "output_type": "stream",
     "text": [
      "The sum of all list number 9\n"
     ]
    }
   ],
   "source": [
    "a=[3,5,6,4,2,6,7,8,9]\n",
    "print(\"The largest num in list number\" , max(a))"
   ]
  },
  {
   "cell_type": "code",
   "execution_count": 19,
   "metadata": {},
   "outputs": [
    {
     "ename": "IndentationError",
     "evalue": "unexpected indent (<ipython-input-19-09bf45f87770>, line 2)",
     "output_type": "error",
     "traceback": [
      "\u001b[1;36m  File \u001b[1;32m\"<ipython-input-19-09bf45f87770>\"\u001b[1;36m, line \u001b[1;32m2\u001b[0m\n\u001b[1;33m    for i in a:\u001b[0m\n\u001b[1;37m    ^\u001b[0m\n\u001b[1;31mIndentationError\u001b[0m\u001b[1;31m:\u001b[0m unexpected indent\n"
     ]
    }
   ],
   "source": [
    "a=[1,1,2,3,5,8,13,21,34,55,89]\n",
    "x=[i for i in a if i <5]\n",
    "print(x)"
   ]
  },
  {
   "cell_type": "code",
   "execution_count": null,
   "metadata": {},
   "outputs": [],
   "source": []
  },
  {
   "cell_type": "markdown",
   "metadata": {},
   "source": []
  },
  {
   "cell_type": "code",
   "execution_count": 9,
   "metadata": {},
   "outputs": [
    {
     "name": "stdout",
     "output_type": "stream",
     "text": [
      "enter your english  marks 34\n",
      "enter your urdu  marks 67\n",
      "enter your math  marks 87\n",
      "enter your science  marks 78\n",
      "enter your pst  marks 56\n",
      "your grade is D\n"
     ]
    }
   ],
   "source": [
    "a=int(input(\"enter your english  marks \"));\n",
    "b=int(input(\"enter your urdu  marks \"));\n",
    "c=int(input(\"enter your math  marks \"));\n",
    "d=int(input(\"enter your science  marks \"));\n",
    "e=int(input(\"enter your pst  marks \"));\n",
    "F = a + b + c + d\n",
    "S=(F*100)/500;\n",
    "if (S>=80 and S<=90) :\n",
    " print (\"your grade is A\");\n",
    "elif (S>=70 and S<80):\n",
    " print(\"your grade is B\");\n",
    "elif (S>=60 and S<70):\n",
    " print(\"your grade is C\");\n",
    "elif (S>=50 and S<80):\n",
    " print(\"your grade is D\");\n",
    "elif (S<50 ):\n",
    " print(\"Fail\");\n",
    "else :\n",
    " print(\"please enter correct input\");\n"
   ]
  },
  {
   "cell_type": "code",
   "execution_count": null,
   "metadata": {},
   "outputs": [],
   "source": []
  }
 ],
 "metadata": {
  "kernelspec": {
   "display_name": "Python 3",
   "language": "python",
   "name": "python3"
  },
  "language_info": {
   "codemirror_mode": {
    "name": "ipython",
    "version": 3
   },
   "file_extension": ".py",
   "mimetype": "text/x-python",
   "name": "python",
   "nbconvert_exporter": "python",
   "pygments_lexer": "ipython3",
   "version": "3.7.4"
  }
 },
 "nbformat": 4,
 "nbformat_minor": 2
}
