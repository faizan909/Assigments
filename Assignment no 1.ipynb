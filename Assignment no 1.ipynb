{
 "cells": [
  {
   "cell_type": "code",
   "execution_count": 1,
   "metadata": {},
   "outputs": [
    {
     "name": "stdout",
     "output_type": "stream",
     "text": [
      "enter first num3\n",
      "enter second value4\n",
      "enter operator*\n",
      "12\n"
     ]
    }
   ],
   "source": [
    "val1=int(input(\"enter first num\"));\n",
    "val2=int(input(\"enter second value\"));\n",
    "operater=input(\"enter operator\");\n",
    "if operater==\"^\":\n",
    "    power= pow(val1,val2)\n",
    "    print(power)\n",
    "elif operater==\"+\":\n",
    "    val =val1 + val2\n",
    "    print(val)\n",
    "elif operater==\"-\":\n",
    "    val =val1 - val2\n",
    "    print(val)\n",
    "elif operater==\"*\":\n",
    "    val =val1 * val2\n",
    "    print(val)\n",
    "elif operater==\"/\":\n",
    "    val =val1 / val2\n",
    "    print(val)    \n",
    "            \n",
    "else :\n",
    "    print(\"correct operatter\")"
   ]
  },
  {
   "cell_type": "code",
   "execution_count": 2,
   "metadata": {},
   "outputs": [
    {
     "name": "stdout",
     "output_type": "stream",
     "text": [
      "no\n",
      "yes\n",
      "no\n"
     ]
    }
   ],
   "source": [
    "a=[\"jdsf\",'3',\"ghdsk\"]\n",
    "for er in a:\n",
    "    if er.isnumeric() ==True:\n",
    "       print(\"yes\")\n",
    "       continue;\n",
    "    else :\n",
    "        print(\"no\")\n",
    "     \n",
    "  \n",
    "      \n",
    "    \n",
    "     "
   ]
  },
  {
   "cell_type": "code",
   "execution_count": 3,
   "metadata": {},
   "outputs": [
    {
     "name": "stdout",
     "output_type": "stream",
     "text": [
      "True\n"
     ]
    }
   ],
   "source": []
  },
  {
   "cell_type": "code",
   "execution_count": 1,
   "metadata": {},
   "outputs": [
    {
     "name": "stdout",
     "output_type": "stream",
     "text": [
      "{'first_name': 'faizan', 'last_name': 'khalid', 'id': '1234'}\n",
      "{'first_name': 'faizan', 'last_name': 'khalid', 'id': '1234', 'key': 'value'}\n"
     ]
    }
   ],
   "source": [
    "a={\"first_name\":\"faizan\",\n",
    "  \"last_name\": \"khalid\",\n",
    "  \"id\" : \"1234\"}\n",
    "print(a)\n",
    "a['key'] = 'value'\n",
    "print(a) \n",
    "\n"
   ]
  },
  {
   "cell_type": "code",
   "execution_count": 43,
   "metadata": {},
   "outputs": [
    {
     "name": "stdout",
     "output_type": "stream",
     "text": [
      "{0: 10, 1: 20}\n",
      "{0: 10, 1: 20, 2: 30}\n"
     ]
    }
   ],
   "source": [
    "d = {0:10, 1:20}  \n",
    "print(d)  \n",
    "d.update({2:30})  \n",
    "print(d) "
   ]
  },
  {
   "cell_type": "code",
   "execution_count": 9,
   "metadata": {},
   "outputs": [
    {
     "name": "stdout",
     "output_type": "stream",
     "text": [
      "7307\n"
     ]
    }
   ],
   "source": [
    "my_dict = {'data1':100,'data2':-549,'data3':7756}\n",
    "print(sum(my_dict.values()))"
   ]
  },
  {
   "cell_type": "code",
   "execution_count": 2,
   "metadata": {},
   "outputs": [
    {
     "name": "stdout",
     "output_type": "stream",
     "text": [
      "no\n"
     ]
    }
   ],
   "source": [
    "d = {0:10, 1:20, 2:45, 3:34}\n",
    "x=5;\n",
    "if x in d :\n",
    "    print(\"yes\")\n",
    "else :\n",
    "    print(\"no\")"
   ]
  },
  {
   "cell_type": "code",
   "execution_count": null,
   "metadata": {},
   "outputs": [],
   "source": []
  }
 ],
 "metadata": {
  "kernelspec": {
   "display_name": "Python 3",
   "language": "python",
   "name": "python3"
  },
  "language_info": {
   "codemirror_mode": {
    "name": "ipython",
    "version": 3
   },
   "file_extension": ".py",
   "mimetype": "text/x-python",
   "name": "python",
   "nbconvert_exporter": "python",
   "pygments_lexer": "ipython3",
   "version": "3.7.4"
  }
 },
 "nbformat": 4,
 "nbformat_minor": 2
}
