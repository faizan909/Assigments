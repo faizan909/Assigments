{
 "cells": [
  {
   "cell_type": "code",
   "execution_count": 7,
   "metadata": {},
   "outputs": [
    {
     "name": "stdout",
     "output_type": "stream",
     "text": [
      "[{'City': ' Karachi', 'Country': 'Pakistan', 'Population': '2billion'}, {'City': ' London', 'Country': 'England', 'Population': '2billion'}, {'City': ' Istumbol', 'Country': 'Turkey', 'Population': '2billion'}]\n"
     ]
    }
   ],
   "source": [
    "Cities=[\n",
    "   {    \"City\":\" Karachi\",\n",
    "        \"Country\":\"Pakistan\",\n",
    "        \"Population\":\"2billion\"\n",
    "         },\n",
    "   {    \"City\":\" London\",\n",
    "        \"Country\":\"England\",\n",
    "        \"Population\":\"2billion\"\n",
    "    },\n",
    "      {    \"City\":\" Istumbol\",\n",
    "        \"Country\":\"Turkey\",\n",
    "        \"Population\":\"2billion\"\n",
    "    } \n",
    "]\n",
    "print(Cities)    \n"
   ]
  },
  {
   "cell_type": "code",
   "execution_count": 18,
   "metadata": {},
   "outputs": [
    {
     "data": {
      "text/plain": [
       "{'First_name': 'Faizan', 'Last_name': 'Khalid', 'age': 30, 'City': 'Karachi'}"
      ]
     },
     "execution_count": 18,
     "metadata": {},
     "output_type": "execute_result"
    }
   ],
   "source": [
    "A = {\n",
    "   \"First_name\":\"Faizan\",\n",
    "    \"Last_name\":\"Khalid\",\n",
    "    \"age\":30,\n",
    "    \"City\":\"Karachi\"\n",
    "}\n",
    "\n",
    "A.update({\"qulification\" :[\"Matric\",\"intermadiate\"]})\n",
    "\n",
    "A.pop(\"qulification\")\n",
    "A\n",
    "    "
   ]
  },
  {
   "cell_type": "code",
   "execution_count": null,
   "metadata": {},
   "outputs": [],
   "source": []
  },
  {
   "cell_type": "code",
   "execution_count": 8,
   "metadata": {},
   "outputs": [
    {
     "name": "stdout",
     "output_type": "stream",
     "text": [
      "How old are you?\n",
      "Enter 'quit' when you are finished. 4\n",
      "  Your ticket is $10.\n",
      "How old are you?\n",
      "Enter 'quit' when you are finished. 45\n",
      "  Your ticket is $15.\n",
      "How old are you?\n",
      "Enter 'quit' when you are finished. quit\n"
     ]
    }
   ],
   "source": [
    "prompt = \"How old are you?\"\n",
    "prompt += \"\\nEnter 'quit' when you are finished. \";\n",
    "while True:\n",
    "    age = input(prompt)\n",
    "    if age == 'quit':\n",
    "        break\n",
    "    age = int(age)\n",
    "\n",
    "    if age < 3:\n",
    "        print(\"  You get in free!\")\n",
    "    elif age < 13:\n",
    "        print(\"  Your ticket is $10.\")\n",
    "    else:\n",
    "        print(\"  Your ticket is $15.\")"
   ]
  },
  {
   "cell_type": "code",
   "execution_count": 9,
   "metadata": {},
   "outputs": [
    {
     "name": "stdout",
     "output_type": "stream",
     "text": [
      "One of my favorite books is Alice in Wonderland.\n"
     ]
    }
   ],
   "source": [
    "def Favrout_book(Title):    \n",
    "    print(Title)\n",
    "Favrout_book(\"One of my favorite books is Alice in Wonderland.\")"
   ]
  },
  {
   "cell_type": "markdown",
   "metadata": {},
   "source": []
  },
  {
   "cell_type": "code",
   "execution_count": 10,
   "metadata": {},
   "outputs": [
    {
     "name": "stdout",
     "output_type": "stream",
     "text": [
      "enter a num4\n",
      "your num is lessthan correct answer \n",
      "enter a num6\n",
      "your num is lessthan correct answer \n",
      "enter a num8\n",
      "your num is lessthan correct answer \n"
     ]
    }
   ],
   "source": [
    "import random\n",
    "a = random.randint(1,30)\n",
    "for i in range(0,3):\n",
    "    w=int(input(\"enter a num\"))\n",
    "    if w == a:\n",
    "        print(\"your answer is correct\")\n",
    "    elif w < a:\n",
    "        print(\"your num is lessthan correct answer \")\n",
    "    elif w > a :\n",
    "        print (\"your answer is greater than correct answer\")\n",
    "    else :\n",
    "        print (\"enter a write nmber\")"
   ]
  },
  {
   "cell_type": "code",
   "execution_count": null,
   "metadata": {},
   "outputs": [],
   "source": []
  }
 ],
 "metadata": {
  "kernelspec": {
   "display_name": "Python 3",
   "language": "python",
   "name": "python3"
  },
  "language_info": {
   "codemirror_mode": {
    "name": "ipython",
    "version": 3
   },
   "file_extension": ".py",
   "mimetype": "text/x-python",
   "name": "python",
   "nbconvert_exporter": "python",
   "pygments_lexer": "ipython3",
   "version": "3.7.4"
  }
 },
 "nbformat": 4,
 "nbformat_minor": 2
}
